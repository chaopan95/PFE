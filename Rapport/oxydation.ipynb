{
 "cells": [
  {
   "cell_type": "code",
   "execution_count": 111,
   "metadata": {},
   "outputs": [],
   "source": []
  },
  {
   "cell_type": "markdown",
   "metadata": {},
   "source": [
    "```Python\n",
    "class Oxydation:\n",
    "    def __init__(self, **args):\n",
    "        '''Initialise all variables'''\n",
    "\n",
    "    def set_user_parameters(self):\n",
    "        '''This function is to read all parameters which a user provide'''\n",
    "\n",
    "    def time_integration_RK2_Voyshnis_2014(self, **args):\n",
    "        '''Calculate film thickness and the flux for all species in Runge-Kutta method'''\n",
    "    \n",
    "    def J_vO_Leistner_2012(self, **args):\n",
    "        '''Calculate oxygen vacancy flux'''\n",
    "\n",
    "    def J_ICr_Leistner_2012(self, **args):\n",
    "        '''Calculate chrome ion flux through interstitial positions'''\n",
    "\n",
    "    def J_MCr_Leistner_2012(self, **args):\n",
    "        '''Calculate chrome ion flux through metallic positions'''\n",
    "\n",
    "    def f_(self, **args):\n",
    "        '''A decreqsing function reflecting the variation of the potential\n",
    "        drop at the metal/oxide interface during the oxide growth'''\n",
    "\n",
    "    def f_Leistner_2012(self, x_0, x):\n",
    "        '''Calculate the film thickness with the method of Runge-Kutta'''\n",
    "\n",
    "    def J_dissol_Leistner_2012(self, **args):\n",
    "        '''Calculate the film dissolution rate'''\n",
    "        \n",
    "```"
   ]
  },
  {
   "cell_type": "code",
   "execution_count": null,
   "metadata": {},
   "outputs": [],
   "source": []
  },
  {
   "cell_type": "markdown",
   "metadata": {},
   "source": [
    "```Python\n",
    "class CorrisonTest(unittest.TestCase):\n",
    "    def test_result_x(self):\n",
    "        '''Test the oxide film thickness'''\n",
    "\n",
    "    def test_result_J_v0(self):\n",
    "        '''Test the flux of oxygen vacancies'''\n",
    "\n",
    "    def test_result_J_H(self):\n",
    "        '''Test the flux of all species'''\n",
    "```"
   ]
  },
  {
   "cell_type": "code",
   "execution_count": null,
   "metadata": {},
   "outputs": [],
   "source": []
  },
  {
   "cell_type": "code",
   "execution_count": null,
   "metadata": {},
   "outputs": [],
   "source": []
  }
 ],
 "metadata": {
  "file_extension": ".py",
  "kernelspec": {
   "display_name": "Python 3",
   "language": "python",
   "name": "python3"
  },
  "language_info": {
   "codemirror_mode": {
    "name": "ipython",
    "version": 3
   },
   "file_extension": ".py",
   "mimetype": "text/x-python",
   "name": "python",
   "nbconvert_exporter": "python",
   "pygments_lexer": "ipython3",
   "version": "3.7.6"
  },
  "mimetype": "text/x-python",
  "name": "python",
  "npconvert_exporter": "python",
  "pygments_lexer": "ipython3",
  "version": 3
 },
 "nbformat": 4,
 "nbformat_minor": 2
}
