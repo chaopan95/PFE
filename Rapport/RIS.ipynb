{
 "cells": [
  {
   "cell_type": "code",
   "execution_count": null,
   "metadata": {},
   "outputs": [],
   "source": []
  },
  {
   "cell_type": "markdown",
   "metadata": {},
   "source": [
    "```Python\n",
    "class MIK:\n",
    "    '''Simulation for RIS with model MIK for Ee-Cr-Ni'''\n",
    "    def __init__(self, *arg):\n",
    "        '''Initiqlize all variables and set all parameters'''\n",
    "\n",
    "    def get_profile(self, *arg):\n",
    "        '''To receive an input profile'''\n",
    "\n",
    "    def calculate_migration_energy(self):\n",
    "        '''Calculate migration energy of Fe, Cr, Ni'''\n",
    "\n",
    "    def calculate_CVTHER(self):\n",
    "        '''Perfect sink: defect concentrations at thermal equilibrium'''\n",
    "\n",
    "    def mesh(self, *arg):\n",
    "        '''Spatial discretisation'''\n",
    "\n",
    "    def calculate_dCv_dCi(self):\n",
    "        '''Increment per time step for vancy and Interstitial'''\n",
    "\n",
    "    def fex(self, *arg):\n",
    "        '''Auxiliary function for solving PDE sytem'''\n",
    "\n",
    "    def solve(self, *arg):\n",
    "        '''Solve PDEs system'''\n",
    "\n",
    "    def convolution(self, *arg):\n",
    "        '''Post processing'''\n",
    "\n",
    "    def plot_result(self, *arg):\n",
    "        '''To visiualize the contrations of Fe, Cr, Ni'''\n",
    "```"
   ]
  },
  {
   "cell_type": "code",
   "execution_count": null,
   "metadata": {},
   "outputs": [],
   "source": []
  },
  {
   "cell_type": "markdown",
   "metadata": {},
   "source": [
    "```Python\n",
    "class MIK_Test(unittest.TestCase):\n",
    "    '''Unit test for numerique programmination'''\n",
    "    def test_initial_values(self):\n",
    "        '''Test all initial values of MIK model'''\n",
    "\n",
    "    def test_NUVA(self):\n",
    "        '''Test the value of jump frequence of Fe'''\n",
    "        \n",
    "    def test_DAV_RECA_with_NUVA(self):\n",
    "        '''Test the value of diffusion of Fe and coefficient of recombinasion of Fe'''\n",
    "\n",
    "    def test_fex(self):\n",
    "        '''Test increment of concentration of Fe, Cr, Ni, vacancy and interstitial'''\n",
    "\n",
    "    def test_solution(self):\n",
    "        '''Test the final result at different DOSE, e.g. 140 dpa'''\n",
    "```"
   ]
  },
  {
   "cell_type": "code",
   "execution_count": null,
   "metadata": {},
   "outputs": [],
   "source": []
  },
  {
   "cell_type": "markdown",
   "metadata": {},
   "source": [
    "```Python\n",
    "class LocalInitiationLaw:\n",
    "    def __init__(self, **args):\n",
    "        '''Initialise all variables and set all parameters'''\n",
    "\n",
    "    def RIS(self, **args):\n",
    "        '''Calculate Cr according to empirical modle and MIK model'''\n",
    "\n",
    "    def PlotRIS(self, **args):\n",
    "        '''Plot the evolution of Cr with fluence'''\n",
    "\n",
    "    def randomGB(self, **args):\n",
    "        '''Create 10 grains boundaries with 1000 nm. Along each grain boundary,\n",
    "        three different concentrations of Cr exist at random.'''\n",
    "\n",
    "    def pureGB(self, **args):\n",
    "        '''At each grain boundaries, there is one unique concentration of Cr'''\n",
    "\n",
    "    def PrintGbs(self, **args):\n",
    "        '''Plot grain boundaries: pure and mixed'''\n",
    "\n",
    "    def PlotPureOxidationKinetics(self, **args):\n",
    "        '''Plot evolution of oxydation without RIS effect'''\n",
    "\n",
    "    def PlotOxidationKinetics(self, **args):\n",
    "        '''Plot the evolution of oxydation coupled with RIS effect'''\n",
    "\n",
    "    def Coef_T(self, **args):\n",
    "        '''Calculate the effect of temperature on the oxidation kinetics'''\n",
    "\n",
    "    def compute_DEcP(self, **args):\n",
    "        '''Calculate the potential difference of Ni / NiO from the\n",
    "        temperature and the hydrogen content dissolved in water.'''\n",
    "\n",
    "    def Coef_H(self, **args):\n",
    "        '''Calculate the effect of the dissolved dissolved hydrogen\n",
    "        content on the oxidation kinetics.'''\n",
    "\n",
    "    def OxidationTime(self, **args):\n",
    "        '''Calculate required time (h) for an oxidation increment of 1 nm'''\n",
    "\n",
    "    def OxideGrowth(self, **args):\n",
    "        '''Calculate the oxidation kinetics at grain boundary'''\n",
    "```"
   ]
  },
  {
   "cell_type": "code",
   "execution_count": null,
   "metadata": {},
   "outputs": [],
   "source": []
  },
  {
   "cell_type": "markdown",
   "metadata": {},
   "source": [
    "```Python\n",
    "def couple_RIS_OXY(**args):\n",
    "    '''Predict oxydation thickness with RIS'''\n",
    "\n",
    "def film_growth_animation(**args):\n",
    "    '''Generate an animation about oxide film growth'''\n",
    "\n",
    "def run():\n",
    "    '''Run all calculation with regard to RIS-Oxydation'''\n",
    "```"
   ]
  },
  {
   "cell_type": "code",
   "execution_count": null,
   "metadata": {},
   "outputs": [],
   "source": []
  }
 ],
 "metadata": {
  "file_extension": ".py",
  "kernelspec": {
   "display_name": "Python 3",
   "language": "python",
   "name": "python3"
  },
  "language_info": {
   "codemirror_mode": {
    "name": "ipython",
    "version": 3
   },
   "file_extension": ".py",
   "mimetype": "text/x-python",
   "name": "python",
   "nbconvert_exporter": "python",
   "pygments_lexer": "ipython3",
   "version": "3.7.6"
  },
  "mimetype": "text/x-python",
  "name": "python",
  "npconvert_exporter": "python",
  "pygments_lexer": "ipython3",
  "version": 3
 },
 "nbformat": 4,
 "nbformat_minor": 2
}
